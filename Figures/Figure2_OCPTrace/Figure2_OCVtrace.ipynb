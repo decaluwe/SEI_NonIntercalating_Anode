{
 "cells": [
  {
   "cell_type": "markdown",
   "metadata": {},
   "source": [
    "# Figure 2: Plot the OCV trace during NR measurements\n",
    "\n",
    "Start by importing the needed modules:"
   ]
  },
  {
   "cell_type": "code",
   "execution_count": 1,
   "metadata": {
    "collapsed": true
   },
   "outputs": [],
   "source": [
    "import numpy as np\n",
    "import pylab as plt\n",
    "import pandas as pd"
   ]
  },
  {
   "cell_type": "markdown",
   "metadata": {},
   "source": [
    "## Set up the color pallete and define the default font."
   ]
  },
  {
   "cell_type": "code",
   "execution_count": 2,
   "metadata": {
    "collapsed": true
   },
   "outputs": [],
   "source": [
    "cmap = plt.get_cmap('plasma')\n",
    "ndata = 10\n",
    "color_ind = np.linspace(0,1,ndata)\n",
    "colors = list()\n",
    "\n",
    "for i in np.arange(ndata):\n",
    "    colors.append(cmap(color_ind[i]))\n",
    "\n",
    "color = colors[4]\n",
    "\n",
    "fontname = 'Times New Roman'"
   ]
  },
  {
   "cell_type": "markdown",
   "metadata": {},
   "source": [
    "## Import the data:"
   ]
  },
  {
   "cell_type": "code",
   "execution_count": 3,
   "metadata": {
    "collapsed": true
   },
   "outputs": [],
   "source": [
    "OCVData = pd.read_csv('03222016_w3_OCV.csv')"
   ]
  },
  {
   "cell_type": "markdown",
   "metadata": {},
   "source": [
    "## Now plot and save the data:"
   ]
  },
  {
   "cell_type": "code",
   "execution_count": 4,
   "metadata": {},
   "outputs": [
    {
     "data": {
      "image/png": "[encoded data removed]",
      "text/plain": [
       "<matplotlib.figure.Figure at 0x10ab939b0>"
      ]
     },
     "metadata": {},
     "output_type": "display_data"
    }
   ],
   "source": [
    "OCVfig = plt.figure()\n",
    "ax = OCVfig.add_axes([0.2,0.21,0.75,0.75])\n",
    "OCVfig.set_size_inches([3.0,2.25])\n",
    "\n",
    "# The NR data was collected roughly between hours 2 and 5:\n",
    "NR_window = np.array([2.0,5.0])\n",
    "\n",
    "# Plot the data and highlight the NR window:\n",
    "plt.plot(OCVData['s']/3600,OCVData['V vs. Ref.'],color=colors[6])\n",
    "plt.fill_between(NR_window,0,0.75,color=colors[0],alpha=0.4)\n",
    "\n",
    "# x- and y-axis limits:\n",
    "plt.xlim(0,20)\n",
    "plt.ylim(0.0,0.75)\n",
    "\n",
    "plt.yticks([0, 0.25, 0.500, 0.750])\n",
    "\n",
    "# Set the tick parameters:\n",
    "ax.get_yaxis().set_tick_params('both', direction='in',pad=5.0)\n",
    "ax.get_xaxis().set_tick_params('both', direction='in',pad=5.0)\n",
    "\n",
    "for tick in ax.xaxis.get_major_ticks():\n",
    "    tick.label1.set_fontsize(8)\n",
    "    tick.label1.set_fontname(fontname)\n",
    "for tick in ax.yaxis.get_major_ticks():\n",
    "    tick.label1.set_fontsize(8)\n",
    "    tick.label1.set_fontname(fontname)\n",
    "\n",
    "# Set the axis labels:    \n",
    "plt.ylabel('OCP (V vs. Li/Li+)',fontname=fontname,fontsize=10,labelpad=7.5,fontweight='normal')\n",
    "plt.xlabel('Time (Hours)',fontname=fontname,fontsize=10,labelpad=0.5)\n",
    "\n",
    "# Label the highlight to the NR collection window:\n",
    "plt.annotate('NR Collection', xy=(5.0,0.225),xytext=(8.0,0.2),arrowprops=dict(arrowstyle=\"-|>\",color='k',linewidth=2.0),fontsize=10,family='Times New Roman')\n",
    "plt.annotate('Window', xy=(5.0,0.225),xytext=(8.0,0.125),fontsize=10,family='Times New Roman')\n",
    "\n",
    "# Save the figure:\n",
    "plt.savefig('../NR_OCP.pdf',dpi=500,format='pdf')\n",
    "\n",
    "# Inspect the figure, here:\n",
    "plt.show()"
   ]
  },
  {
   "cell_type": "code",
   "execution_count": null,
   "metadata": {
    "collapsed": true
   },
   "outputs": [],
   "source": []
  }
 ],
 "metadata": {
  "kernelspec": {
   "display_name": "Python 3",
   "language": "python",
   "name": "python3"
  },
  "language_info": {
   "codemirror_mode": {
    "name": "ipython",
    "version": 3
   },
   "file_extension": ".py",
   "mimetype": "text/x-python",
   "name": "python",
   "nbconvert_exporter": "python",
   "pygments_lexer": "ipython3",
   "version": "3.6.3"
  }
 },
 "nbformat": 4,
 "nbformat_minor": 2
}
